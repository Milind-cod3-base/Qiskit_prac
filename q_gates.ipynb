{
 "cells": [
  {
   "cell_type": "markdown",
   "id": "5117edff",
   "metadata": {},
   "source": [
    "hadamard etc. are gates\n",
    "in qiskit, we can create custom gates\n",
    "\n",
    "gates are unitary operations, they can be represented as unitary matrices. they operate on vectors which are the states.\n",
    "\n",
    "\n",
    "\n",
    "Representations:\n",
    "\n",
    "(x-gate)\n",
    "X |1> = |0>\n",
    "X |0> = |1>\n",
    "\n",
    "or\n",
    "\n",
    "X |0> = |1>   (simulated this below)\n",
    "is same as\n",
    "[0 1]  [1]  = [0]\n",
    "[1 0] .[0]    [1] \n"
   ]
  },
  {
   "cell_type": "markdown",
   "id": "33d8e9f5",
   "metadata": {},
   "source": [
    " Third and fourth way is in terms of visual representation and measurement\n",
    " "
   ]
  },
  {
   "cell_type": "code",
   "execution_count": 1,
   "id": "a306560d",
   "metadata": {},
   "outputs": [],
   "source": [
    "from qiskit import *"
   ]
  },
  {
   "cell_type": "code",
   "execution_count": 2,
   "id": "147dc514",
   "metadata": {},
   "outputs": [],
   "source": [
    "# visualisation\n",
    "from qiskit.tools.visualization import plot_bloch_multivector"
   ]
  },
  {
   "cell_type": "code",
   "execution_count": 6,
   "id": "c56390cb",
   "metadata": {},
   "outputs": [
    {
     "name": "stdout",
     "output_type": "stream",
     "text": [
      "Statevector([0.+0.j, 1.+0.j],\n",
      "            dims=(2,))\n"
     ]
    }
   ],
   "source": [
    "# create a Quantum circuit, with one qubit and classical bit \n",
    "circuit = QuantumCircuit(1,1)\n",
    "\n",
    "# applying one operation on it\n",
    "circuit.x(0)\n",
    "\n",
    "# simulator use\n",
    "simulator = Aer.get_backend('statevector_simulator')\n",
    "\n",
    "#execute\n",
    "result = execute(circuit, backend= simulator).result()\n",
    "statevector = result.get_statevector()\n",
    "\n",
    "print(statevector) # gives same result as first cell."
   ]
  },
  {
   "cell_type": "code",
   "execution_count": 7,
   "id": "cabd5854",
   "metadata": {},
   "outputs": [
    {
     "data": {
      "image/png": "[encoded data removed]",
      "text/plain": [
       "<Figure size 185.453x200.667 with 1 Axes>"
      ]
     },
     "execution_count": 7,
     "metadata": {},
     "output_type": "execute_result"
    }
   ],
   "source": [
    "# plotting circuit\n",
    "%matplotlib inline\n",
    "circuit.draw(output = 'mpl')"
   ]
  }
 ],
 "metadata": {
  "kernelspec": {
   "display_name": "Python 3 (ipykernel)",
   "language": "python",
   "name": "python3"
  },
  "language_info": {
   "codemirror_mode": {
    "name": "ipython",
    "version": 3
   },
   "file_extension": ".py",
   "mimetype": "text/x-python",
   "name": "python",
   "nbconvert_exporter": "python",
   "pygments_lexer": "ipython3",
   "version": "3.9.13"
  }
 },
 "nbformat": 4,
 "nbformat_minor": 5
}
