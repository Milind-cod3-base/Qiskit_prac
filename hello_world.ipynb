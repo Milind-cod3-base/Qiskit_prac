{
 "cells": [
  {
   "cell_type": "code",
   "execution_count": 1,
   "id": "c673b7af",
   "metadata": {},
   "outputs": [],
   "source": [
    "import qiskit"
   ]
  },
  {
   "cell_type": "code",
   "execution_count": 2,
   "id": "5aa05f6a",
   "metadata": {},
   "outputs": [
    {
     "data": {
      "text/plain": [
       "{'qiskit-terra': '0.22.2', 'qiskit-aer': '0.11.1', 'qiskit-ignis': None, 'qiskit-ibmq-provider': '0.19.2', 'qiskit': '0.39.2', 'qiskit-nature': None, 'qiskit-finance': None, 'qiskit-optimization': None, 'qiskit-machine-learning': None}"
      ]
     },
     "execution_count": 2,
     "metadata": {},
     "output_type": "execute_result"
    }
   ],
   "source": [
    "# check version\n",
    "qiskit.__qiskit_version__"
   ]
  },
  {
   "cell_type": "code",
   "execution_count": 3,
   "id": "22b959bb",
   "metadata": {},
   "outputs": [],
   "source": [
    "# first we will debug the code locally on simulator and then we will run on the IBM machine using its token\n",
    "\n"
   ]
  },
  {
   "cell_type": "code",
   "execution_count": 4,
   "id": "a125920c",
   "metadata": {},
   "outputs": [],
   "source": [
    "from qiskit import IBMQ"
   ]
  },
  {
   "cell_type": "code",
   "execution_count": 5,
   "id": "40191118",
   "metadata": {},
   "outputs": [],
   "source": [
    "IBMQ.save_account('3ac70a17964072aa1cd8534afa284560c4a25f8ff126c5c1caeb70a4de10ad9beff4201d491544fd80ef48ae55eafac81ec6e710fc692af598e8ed2338a954c1', overwrite=True)"
   ]
  },
  {
   "cell_type": "code",
   "execution_count": 6,
   "id": "0b03ef70",
   "metadata": {},
   "outputs": [
    {
     "data": {
      "text/plain": [
       "<AccountProvider for IBMQ(hub='ibm-q', group='open', project='main')>"
      ]
     },
     "execution_count": 6,
     "metadata": {},
     "output_type": "execute_result"
    }
   ],
   "source": [
    "# check the access to ibmq device\n",
    "IBMQ.load_account()"
   ]
  },
  {
   "cell_type": "code",
   "execution_count": 7,
   "id": "c485beda",
   "metadata": {},
   "outputs": [],
   "source": [
    "# need to make 2 qubit quantum circuit\n",
    "# importing everything from the qiskit\n",
    "from qiskit import *"
   ]
  },
  {
   "cell_type": "code",
   "execution_count": 8,
   "id": "879b4bf7",
   "metadata": {},
   "outputs": [],
   "source": [
    "# building 2 qubit quantum register\n",
    "qr = QuantumRegister(2)"
   ]
  },
  {
   "cell_type": "code",
   "execution_count": 9,
   "id": "53eda722",
   "metadata": {},
   "outputs": [],
   "source": [
    "# building 2 classical registers to measure the results from qubits\n",
    "cr = ClassicalRegister(2)"
   ]
  },
  {
   "cell_type": "code",
   "execution_count": 10,
   "id": "f3a87c9f",
   "metadata": {},
   "outputs": [],
   "source": [
    "# building a circuit using above registers\n",
    "#circuit = QuantumCircuit(qr, cr)\n",
    "\n",
    "circuit = QuantumCircuit(2, 2)"
   ]
  },
  {
   "cell_type": "code",
   "execution_count": 11,
   "id": "b37eda02",
   "metadata": {},
   "outputs": [],
   "source": [
    "# plotting the circuit diag\n",
    "\n",
    "# for one line\n",
    "%matplotlib inline  "
   ]
  },
  {
   "cell_type": "code",
   "execution_count": 12,
   "id": "19878ed4",
   "metadata": {},
   "outputs": [
    {
     "data": {
      "text/html": [
       "<pre style=\"word-wrap: normal;white-space: pre;background: #fff0;line-height: 1.1;font-family: &quot;Courier New&quot;,Courier,monospace\">     \n",
       "q_0: \n",
       "     \n",
       "q_1: \n",
       "     \n",
       "c_0: \n",
       "     \n",
       "c_1: \n",
       "     </pre>"
      ],
      "text/plain": [
       "     \n",
       "q_0: \n",
       "     \n",
       "q_1: \n",
       "     \n",
       "c_0: \n",
       "     \n",
       "c_1: \n",
       "     "
      ]
     },
     "execution_count": 12,
     "metadata": {},
     "output_type": "execute_result"
    }
   ],
   "source": [
    "circuit.draw()"
   ]
  },
  {
   "cell_type": "code",
   "execution_count": 13,
   "id": "f9c765f7",
   "metadata": {},
   "outputs": [],
   "source": [
    "# building gates into the circuit\n",
    "\n",
    "# in order to create entanglement, we need to create Hadamard gate onto first qubit"
   ]
  },
  {
   "cell_type": "code",
   "execution_count": 14,
   "id": "ae66a719",
   "metadata": {},
   "outputs": [
    {
     "data": {
      "text/plain": [
       "<qiskit.circuit.instructionset.InstructionSet at 0x7efeec989850>"
      ]
     },
     "execution_count": 14,
     "metadata": {},
     "output_type": "execute_result"
    }
   ],
   "source": [
    "# applying hadamard gate onto the first qubit\n",
    "circuit.h(0)"
   ]
  },
  {
   "cell_type": "code",
   "execution_count": 15,
   "id": "848c5950",
   "metadata": {},
   "outputs": [
    {
     "name": "stdout",
     "output_type": "stream",
     "text": [
      "Requirement already satisfied: pylatexenc in /home/brucewayne/anaconda3/lib/python3.9/site-packages (2.10)\r\n"
     ]
    }
   ],
   "source": [
    "!pip install pylatexenc"
   ]
  },
  {
   "cell_type": "code",
   "execution_count": 16,
   "id": "88f0fc5c",
   "metadata": {},
   "outputs": [
    {
     "data": {
      "image/png": "[encoded data removed]",
      "text/plain": [
       "<Figure size 203.683x284.278 with 1 Axes>"
      ]
     },
     "execution_count": 16,
     "metadata": {},
     "output_type": "execute_result"
    }
   ],
   "source": [
    "circuit.draw(output='mpl')"
   ]
  },
  {
   "cell_type": "code",
   "execution_count": 17,
   "id": "449cc8a5",
   "metadata": {},
   "outputs": [
    {
     "data": {
      "text/plain": [
       "<qiskit.circuit.instructionset.InstructionSet at 0x7efeec6d9cd0>"
      ]
     },
     "execution_count": 17,
     "metadata": {},
     "output_type": "execute_result"
    }
   ],
   "source": [
    "\n",
    "# using control x gate\n",
    "# this 2 qubit operation is like logical if-else\n",
    "\n",
    "# using first qubit as controller bit, and second qubit as target qubit\n",
    "circuit.cx(0, 1)"
   ]
  },
  {
   "cell_type": "code",
   "execution_count": 18,
   "id": "485e99b6",
   "metadata": {},
   "outputs": [
    {
     "data": {
      "image/png": "[encoded data removed]",
      "text/plain": [
       "<Figure size 287.294x284.278 with 1 Axes>"
      ]
     },
     "execution_count": 18,
     "metadata": {},
     "output_type": "execute_result"
    }
   ],
   "source": [
    "circuit.draw(output='mpl')\n",
    "\n",
    "# now we have entanglement between q00 and q01"
   ]
  },
  {
   "cell_type": "code",
   "execution_count": 19,
   "id": "09861152",
   "metadata": {},
   "outputs": [
    {
     "data": {
      "text/plain": [
       "<qiskit.circuit.instructionset.InstructionSet at 0x7efeec641520>"
      ]
     },
     "execution_count": 19,
     "metadata": {},
     "output_type": "execute_result"
    }
   ],
   "source": [
    "# measuring qubit and storing it in the bit register\n",
    "circuit.measure([0,1], [0,1]) # qubits [0,1] are measured and results are stored in the clasical bits [0,1] in order"
   ]
  },
  {
   "cell_type": "code",
   "execution_count": 20,
   "id": "79ae8e28",
   "metadata": {},
   "outputs": [
    {
     "data": {
      "image/png": "[encoded data removed]",
      "text/plain": [
       "<Figure size 454.517x284.278 with 1 Axes>"
      ]
     },
     "execution_count": 20,
     "metadata": {},
     "output_type": "execute_result"
    }
   ],
   "source": [
    "circuit.draw(output='mpl')"
   ]
  },
  {
   "cell_type": "code",
   "execution_count": 21,
   "id": "5bb0103d",
   "metadata": {},
   "outputs": [],
   "source": [
    "# running the above circuit in simulation using AER (for simulation on local computer)\n",
    "simulator = Aer.get_backend('qasm_simulator') # qasm stands for quantum assembly language"
   ]
  },
  {
   "cell_type": "code",
   "execution_count": 22,
   "id": "b9197e66",
   "metadata": {},
   "outputs": [
    {
     "data": {
      "text/plain": [
       "<qiskit_aer.jobs.aerjob.AerJob at 0x7efeec5d7340>"
      ]
     },
     "execution_count": 22,
     "metadata": {},
     "output_type": "execute_result"
    }
   ],
   "source": [
    "# executing the cirucuit with the simulator as my backend\n",
    "execute(circuit, backend= simulator)"
   ]
  },
  {
   "cell_type": "code",
   "execution_count": 29,
   "id": "ce3bb475",
   "metadata": {},
   "outputs": [],
   "source": [
    "# storing above in a result variable\n",
    "result = execute(circuit, backend= simulator).result()"
   ]
  },
  {
   "cell_type": "code",
   "execution_count": 32,
   "id": "edf40e8d",
   "metadata": {},
   "outputs": [],
   "source": [
    "# for visualisation\n",
    "from qiskit.tools.visualization import plot_histogram"
   ]
  },
  {
   "cell_type": "code",
   "execution_count": 34,
   "id": "b89ff9b3",
   "metadata": {},
   "outputs": [
    {
     "data": {
      "image/png": "[encoded data removed]",
      "text/plain": [
       "<Figure size 700x500 with 1 Axes>"
      ]
     },
     "execution_count": 34,
     "metadata": {},
     "output_type": "execute_result"
    }
   ],
   "source": [
    "plot_histogram(result.get_counts(circuit))"
   ]
  },
  {
   "cell_type": "code",
   "execution_count": 35,
   "id": "644ca1f8",
   "metadata": {},
   "outputs": [],
   "source": [
    "# with 0.527 probability of 00 and 0.497 of 11. Error is due to limited number of shots."
   ]
  },
  {
   "cell_type": "code",
   "execution_count": 36,
   "id": "ed3ae874",
   "metadata": {},
   "outputs": [],
   "source": [
    "# running my code on an actual Quantum computer"
   ]
  },
  {
   "cell_type": "code",
   "execution_count": 37,
   "id": "32a1129d",
   "metadata": {},
   "outputs": [
    {
     "name": "stderr",
     "output_type": "stream",
     "text": [
      "ibmqfactory.load_account:WARNING:2022-11-07 15:12:06,297: Credentials are already in use. The existing account in the session will be replaced.\n"
     ]
    },
    {
     "data": {
      "text/plain": [
       "<AccountProvider for IBMQ(hub='ibm-q', group='open', project='main')>"
      ]
     },
     "execution_count": 37,
     "metadata": {},
     "output_type": "execute_result"
    }
   ],
   "source": [
    "IBMQ.load_account()"
   ]
  },
  {
   "cell_type": "code",
   "execution_count": 56,
   "id": "8c5270c1",
   "metadata": {},
   "outputs": [
    {
     "data": {
      "text/plain": [
       "[<IBMQSimulator('ibmq_qasm_simulator') from IBMQ(hub='ibm-q', group='open', project='main')>,\n",
       " <IBMQBackend('ibmq_lima') from IBMQ(hub='ibm-q', group='open', project='main')>,\n",
       " <IBMQBackend('ibmq_belem') from IBMQ(hub='ibm-q', group='open', project='main')>,\n",
       " <IBMQBackend('ibmq_quito') from IBMQ(hub='ibm-q', group='open', project='main')>,\n",
       " <IBMQSimulator('simulator_statevector') from IBMQ(hub='ibm-q', group='open', project='main')>,\n",
       " <IBMQSimulator('simulator_mps') from IBMQ(hub='ibm-q', group='open', project='main')>,\n",
       " <IBMQSimulator('simulator_extended_stabilizer') from IBMQ(hub='ibm-q', group='open', project='main')>,\n",
       " <IBMQSimulator('simulator_stabilizer') from IBMQ(hub='ibm-q', group='open', project='main')>,\n",
       " <IBMQBackend('ibmq_manila') from IBMQ(hub='ibm-q', group='open', project='main')>,\n",
       " <IBMQBackend('ibm_nairobi') from IBMQ(hub='ibm-q', group='open', project='main')>,\n",
       " <IBMQBackend('ibm_oslo') from IBMQ(hub='ibm-q', group='open', project='main')>]"
      ]
     },
     "execution_count": 56,
     "metadata": {},
     "output_type": "execute_result"
    }
   ],
   "source": [
    "provider = IBMQ.get_provider(hub='ibm-q', group='open', project='main')\n",
    "provider.backends() # lists all the backend available\n",
    "\n",
    "\n",
    "#    What is the difference between all the backends?\n",
    "\n"
   ]
  },
  {
   "cell_type": "code",
   "execution_count": 57,
   "id": "a86063c9",
   "metadata": {},
   "outputs": [],
   "source": [
    "# setting up the quantum computer \n",
    "# qcomp = provider.get_backend('ibmq_16_melbourne') # this is the name of the computer\n",
    "\n",
    "# melbourne is retired, hence we are going to use some other provider. According to first comment (official)\n",
    "# in the tutorial \n",
    "\n",
    "qcomp = provider.get_backend('ibmq_quito')"
   ]
  },
  {
   "cell_type": "code",
   "execution_count": 58,
   "id": "32411f1a",
   "metadata": {},
   "outputs": [],
   "source": [
    "job = execute(circuit, backend=qcomp)"
   ]
  },
  {
   "cell_type": "code",
   "execution_count": 59,
   "id": "45c06eca",
   "metadata": {},
   "outputs": [],
   "source": [
    "# getting the monitor to check the stats of the job\n",
    "from qiskit.tools.monitor import job_monitor"
   ]
  },
  {
   "cell_type": "code",
   "execution_count": null,
   "id": "a22cd121",
   "metadata": {},
   "outputs": [],
   "source": [
    "job_monitor(job)"
   ]
  },
  {
   "cell_type": "code",
   "execution_count": null,
   "id": "3c1b2f80",
   "metadata": {},
   "outputs": [],
   "source": [
    "result = job.result()  # putting result into a variable"
   ]
  },
  {
   "cell_type": "code",
   "execution_count": null,
   "id": "48b9dceb",
   "metadata": {},
   "outputs": [],
   "source": [
    "# plots all the possibilities for 00 01 10 11 \n",
    "# here we can see that, unlike simulated results where only 00 11 were there, we also get some results\n",
    "# of 01 and 10. why? real quantum computer is susceptible to small quantum errors. but we are decreasing errors \n",
    "# and machines are getting better everyday.\n",
    "plot_histogram(result.get_counts(circuit))"
   ]
  }
 ],
 "metadata": {
  "kernelspec": {
   "display_name": "Python 3 (ipykernel)",
   "language": "python",
   "name": "python3"
  },
  "language_info": {
   "codemirror_mode": {
    "name": "ipython",
    "version": 3
   },
   "file_extension": ".py",
   "mimetype": "text/x-python",
   "name": "python",
   "nbconvert_exporter": "python",
   "pygments_lexer": "ipython3",
   "version": "3.9.13"
  }
 },
 "nbformat": 4,
 "nbformat_minor": 5
}
