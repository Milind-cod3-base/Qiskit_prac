{
 "cells": [
  {
   "cell_type": "code",
   "execution_count": 2,
   "id": "c673b7af",
   "metadata": {},
   "outputs": [],
   "source": [
    "import qiskit"
   ]
  },
  {
   "cell_type": "code",
   "execution_count": 3,
   "id": "5aa05f6a",
   "metadata": {},
   "outputs": [
    {
     "data": {
      "text/plain": [
       "{'qiskit-terra': '0.22.2', 'qiskit-aer': '0.11.1', 'qiskit-ignis': None, 'qiskit-ibmq-provider': '0.19.2', 'qiskit': '0.39.2', 'qiskit-nature': None, 'qiskit-finance': None, 'qiskit-optimization': None, 'qiskit-machine-learning': None}"
      ]
     },
     "execution_count": 3,
     "metadata": {},
     "output_type": "execute_result"
    }
   ],
   "source": [
    "# check version\n",
    "qiskit.__qiskit_version__"
   ]
  },
  {
   "cell_type": "code",
   "execution_count": null,
   "id": "22b959bb",
   "metadata": {},
   "outputs": [],
   "source": [
    "# first we will debug the code locally on simulator and then we will run on the IBM machine using its token\n",
    "\n"
   ]
  },
  {
   "cell_type": "code",
   "execution_count": 1,
   "id": "a125920c",
   "metadata": {},
   "outputs": [],
   "source": [
    "from qiskit import IBMQ"
   ]
  },
  {
   "cell_type": "code",
   "execution_count": 2,
   "id": "40191118",
   "metadata": {},
   "outputs": [],
   "source": [
    "IBMQ.save_account('3ac70a17964072aa1cd8534afa284560c4a25f8ff126c5c1caeb70a4de10ad9beff4201d491544fd80ef48ae55eafac81ec6e710fc692af598e8ed2338a954c1')"
   ]
  },
  {
   "cell_type": "code",
   "execution_count": 3,
   "id": "0b03ef70",
   "metadata": {},
   "outputs": [
    {
     "data": {
      "text/plain": [
       "<AccountProvider for IBMQ(hub='ibm-q', group='open', project='main')>"
      ]
     },
     "execution_count": 3,
     "metadata": {},
     "output_type": "execute_result"
    }
   ],
   "source": [
    "# check the access to ibmq device\n",
    "IBMQ.load_account()"
   ]
  },
  {
   "cell_type": "code",
   "execution_count": 1,
   "id": "646a36ac",
   "metadata": {},
   "outputs": [],
   "source": [
    "# need to make 2 qubit quantum circuit\n",
    "# importing everything from the qiskit\n",
    "from qiskit import *"
   ]
  },
  {
   "cell_type": "code",
   "execution_count": 2,
   "id": "33a59716",
   "metadata": {},
   "outputs": [],
   "source": [
    "# building 2 qubit quantum register\n",
    "qr = QuantumRegister(2)"
   ]
  },
  {
   "cell_type": "code",
   "execution_count": 3,
   "id": "106715a1",
   "metadata": {},
   "outputs": [],
   "source": [
    "# building 2 classical registers to measure the results from qubits\n",
    "cr = ClassicalRegister(2)"
   ]
  },
  {
   "cell_type": "code",
   "execution_count": null,
   "id": "cd576457",
   "metadata": {},
   "outputs": [],
   "source": []
  }
 ],
 "metadata": {
  "kernelspec": {
   "display_name": "Python 3 (ipykernel)",
   "language": "python",
   "name": "python3"
  },
  "language_info": {
   "codemirror_mode": {
    "name": "ipython",
    "version": 3
   },
   "file_extension": ".py",
   "mimetype": "text/x-python",
   "name": "python",
   "nbconvert_exporter": "python",
   "pygments_lexer": "ipython3",
   "version": "3.9.13"
  }
 },
 "nbformat": 4,
 "nbformat_minor": 5
}
